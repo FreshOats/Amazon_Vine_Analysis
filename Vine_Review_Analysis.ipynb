{
 "cells": [
  {
   "cell_type": "code",
   "execution_count": 26,
   "metadata": {},
   "outputs": [],
   "source": [
    "## Dependencies\n",
    "import pandas as pd\n",
    "import numpy as np\n",
    "import nbconvert\n",
    "import matplotlib.pyplot as plt\n",
    "import scipy.stats as stats\n",
    "from scipy.stats import ks_2samp"
   ]
  },
  {
   "cell_type": "code",
   "execution_count": 2,
   "metadata": {},
   "outputs": [],
   "source": [
    "## Read file\n",
    "filename = \"C:/Users/justi/OneDrive/Desktop/Analytics/Amazon_Vine_Analysis/vine_table.csv\"\n",
    "vine_table = pd.read_csv(filename)\n",
    "\n",
    "\n"
   ]
  },
  {
   "cell_type": "code",
   "execution_count": 3,
   "metadata": {},
   "outputs": [
    {
     "data": {
      "text/html": [
       "<div>\n",
       "<style scoped>\n",
       "    .dataframe tbody tr th:only-of-type {\n",
       "        vertical-align: middle;\n",
       "    }\n",
       "\n",
       "    .dataframe tbody tr th {\n",
       "        vertical-align: top;\n",
       "    }\n",
       "\n",
       "    .dataframe thead th {\n",
       "        text-align: right;\n",
       "    }\n",
       "</style>\n",
       "<table border=\"1\" class=\"dataframe\">\n",
       "  <thead>\n",
       "    <tr style=\"text-align: right;\">\n",
       "      <th></th>\n",
       "      <th>review_id</th>\n",
       "      <th>star_rating</th>\n",
       "      <th>helpful_votes</th>\n",
       "      <th>total_votes</th>\n",
       "      <th>vine</th>\n",
       "      <th>verified_purchase</th>\n",
       "    </tr>\n",
       "  </thead>\n",
       "  <tbody>\n",
       "    <tr>\n",
       "      <th>0</th>\n",
       "      <td>REAKC26P07MDN</td>\n",
       "      <td>5</td>\n",
       "      <td>0</td>\n",
       "      <td>0</td>\n",
       "      <td>N</td>\n",
       "      <td>Y</td>\n",
       "    </tr>\n",
       "    <tr>\n",
       "      <th>1</th>\n",
       "      <td>R3NU7OMZ4HQIEG</td>\n",
       "      <td>2</td>\n",
       "      <td>0</td>\n",
       "      <td>1</td>\n",
       "      <td>N</td>\n",
       "      <td>Y</td>\n",
       "    </tr>\n",
       "    <tr>\n",
       "      <th>2</th>\n",
       "      <td>R14QJW3XF8QO1P</td>\n",
       "      <td>5</td>\n",
       "      <td>0</td>\n",
       "      <td>0</td>\n",
       "      <td>N</td>\n",
       "      <td>Y</td>\n",
       "    </tr>\n",
       "    <tr>\n",
       "      <th>3</th>\n",
       "      <td>R2HB7AX0394ZGY</td>\n",
       "      <td>5</td>\n",
       "      <td>0</td>\n",
       "      <td>0</td>\n",
       "      <td>N</td>\n",
       "      <td>Y</td>\n",
       "    </tr>\n",
       "    <tr>\n",
       "      <th>4</th>\n",
       "      <td>RGKMPDQGSAHR3</td>\n",
       "      <td>5</td>\n",
       "      <td>0</td>\n",
       "      <td>0</td>\n",
       "      <td>N</td>\n",
       "      <td>Y</td>\n",
       "    </tr>\n",
       "  </tbody>\n",
       "</table>\n",
       "</div>"
      ],
      "text/plain": [
       "        review_id  star_rating  helpful_votes  total_votes vine  \\\n",
       "0   REAKC26P07MDN            5              0            0    N   \n",
       "1  R3NU7OMZ4HQIEG            2              0            1    N   \n",
       "2  R14QJW3XF8QO1P            5              0            0    N   \n",
       "3  R2HB7AX0394ZGY            5              0            0    N   \n",
       "4   RGKMPDQGSAHR3            5              0            0    N   \n",
       "\n",
       "  verified_purchase  \n",
       "0                 Y  \n",
       "1                 Y  \n",
       "2                 Y  \n",
       "3                 Y  \n",
       "4                 Y  "
      ]
     },
     "execution_count": 3,
     "metadata": {},
     "output_type": "execute_result"
    }
   ],
   "source": [
    "vine_table.head()"
   ]
  },
  {
   "cell_type": "code",
   "execution_count": 4,
   "metadata": {},
   "outputs": [
    {
     "data": {
      "text/html": [
       "<div>\n",
       "<style scoped>\n",
       "    .dataframe tbody tr th:only-of-type {\n",
       "        vertical-align: middle;\n",
       "    }\n",
       "\n",
       "    .dataframe tbody tr th {\n",
       "        vertical-align: top;\n",
       "    }\n",
       "\n",
       "    .dataframe thead th {\n",
       "        text-align: right;\n",
       "    }\n",
       "</style>\n",
       "<table border=\"1\" class=\"dataframe\">\n",
       "  <thead>\n",
       "    <tr style=\"text-align: right;\">\n",
       "      <th></th>\n",
       "      <th>review_id</th>\n",
       "      <th>star_rating</th>\n",
       "      <th>helpful_votes</th>\n",
       "      <th>total_votes</th>\n",
       "      <th>vine</th>\n",
       "      <th>verified_purchase</th>\n",
       "    </tr>\n",
       "  </thead>\n",
       "  <tbody>\n",
       "    <tr>\n",
       "      <th>128</th>\n",
       "      <td>R21KC552Y6HL8X</td>\n",
       "      <td>1</td>\n",
       "      <td>27</td>\n",
       "      <td>31</td>\n",
       "      <td>N</td>\n",
       "      <td>Y</td>\n",
       "    </tr>\n",
       "    <tr>\n",
       "      <th>161</th>\n",
       "      <td>RX9WC9FTIR1XR</td>\n",
       "      <td>5</td>\n",
       "      <td>25</td>\n",
       "      <td>25</td>\n",
       "      <td>N</td>\n",
       "      <td>Y</td>\n",
       "    </tr>\n",
       "    <tr>\n",
       "      <th>256</th>\n",
       "      <td>RGDCOU1KBHMNG</td>\n",
       "      <td>3</td>\n",
       "      <td>29</td>\n",
       "      <td>31</td>\n",
       "      <td>N</td>\n",
       "      <td>Y</td>\n",
       "    </tr>\n",
       "    <tr>\n",
       "      <th>267</th>\n",
       "      <td>RVTYWID2TPMMY</td>\n",
       "      <td>2</td>\n",
       "      <td>35</td>\n",
       "      <td>42</td>\n",
       "      <td>N</td>\n",
       "      <td>Y</td>\n",
       "    </tr>\n",
       "    <tr>\n",
       "      <th>719</th>\n",
       "      <td>R2CMPZ5VESGRLY</td>\n",
       "      <td>4</td>\n",
       "      <td>27</td>\n",
       "      <td>28</td>\n",
       "      <td>N</td>\n",
       "      <td>Y</td>\n",
       "    </tr>\n",
       "  </tbody>\n",
       "</table>\n",
       "</div>"
      ],
      "text/plain": [
       "          review_id  star_rating  helpful_votes  total_votes vine  \\\n",
       "128  R21KC552Y6HL8X            1             27           31    N   \n",
       "161   RX9WC9FTIR1XR            5             25           25    N   \n",
       "256   RGDCOU1KBHMNG            3             29           31    N   \n",
       "267   RVTYWID2TPMMY            2             35           42    N   \n",
       "719  R2CMPZ5VESGRLY            4             27           28    N   \n",
       "\n",
       "    verified_purchase  \n",
       "128                 Y  \n",
       "161                 Y  \n",
       "256                 Y  \n",
       "267                 Y  \n",
       "719                 Y  "
      ]
     },
     "execution_count": 4,
     "metadata": {},
     "output_type": "execute_result"
    }
   ],
   "source": [
    "# First filter for 20 or more votes\n",
    "vine_df = vine_table[vine_table.total_votes >= 20]\n",
    "vine_df.head()"
   ]
  },
  {
   "cell_type": "code",
   "execution_count": 5,
   "metadata": {},
   "outputs": [
    {
     "data": {
      "text/plain": [
       "review_id            object\n",
       "star_rating           int64\n",
       "helpful_votes         int64\n",
       "total_votes           int64\n",
       "vine                 object\n",
       "verified_purchase    object\n",
       "dtype: object"
      ]
     },
     "execution_count": 5,
     "metadata": {},
     "output_type": "execute_result"
    }
   ],
   "source": [
    "vine_df.dtypes"
   ]
  },
  {
   "cell_type": "code",
   "execution_count": 6,
   "metadata": {},
   "outputs": [],
   "source": [
    "# Second filter to find products where helpful votes are at least 50% of total\n",
    "helpful = vine_df[(vine_df.helpful_votes/vine_df.total_votes) >= 0.5]\n"
   ]
  },
  {
   "cell_type": "code",
   "execution_count": 7,
   "metadata": {},
   "outputs": [],
   "source": [
    "# Filter the data into 2 dfs with paid vine users and unpaid users\n",
    "paid = helpful[helpful.vine == 'Y']\n",
    "unpaid = helpful[helpful.vine == 'N']\n"
   ]
  },
  {
   "cell_type": "code",
   "execution_count": 8,
   "metadata": {},
   "outputs": [],
   "source": [
    "# Create a function that can return the total number of reviews, number of 5-star reviews and percentage of 5-star reviews for users\n",
    "def calculate_reviews(df, rating=5, helpful='helpful'):\n",
    "    total = df.review_id.count()\n",
    "    fives = df.star_rating[df.star_rating == rating].count()\n",
    "    percent = fives/total * 100\n",
    "    \n",
    "    if df.iloc[0,4] == \"N\":\n",
    "        payment = \"unpaid\"\n",
    "    else:\n",
    "        payment = \"paid vine\"\n",
    "     \n",
    "\n",
    "    return (f'Out of {total:,} reviews, there were {fives:,} {rating}-star reviews. The percent of {helpful} 5-star reviews by {payment} users was {percent:.2f}%')\n"
   ]
  },
  {
   "cell_type": "code",
   "execution_count": 9,
   "metadata": {},
   "outputs": [
    {
     "data": {
      "text/plain": [
       "'Out of 170 reviews, there were 65 5-star reviews. The percent of helpful 5-star reviews by paid vine users was 38.24%'"
      ]
     },
     "execution_count": 9,
     "metadata": {},
     "output_type": "execute_result"
    }
   ],
   "source": [
    "# Display the vine users for pet products\n",
    "calculate_reviews(paid)\n"
   ]
  },
  {
   "cell_type": "code",
   "execution_count": 10,
   "metadata": {},
   "outputs": [
    {
     "data": {
      "text/plain": [
       "'Out of 37,823 reviews, there were 20,605 5-star reviews. The percent of helpful 5-star reviews by unpaid users was 54.48%'"
      ]
     },
     "execution_count": 10,
     "metadata": {},
     "output_type": "execute_result"
    }
   ],
   "source": [
    "# Display the unpaid users for pet products\n",
    "calculate_reviews(unpaid)"
   ]
  },
  {
   "cell_type": "code",
   "execution_count": 11,
   "metadata": {},
   "outputs": [
    {
     "data": {
      "text/plain": [
       "('Out of 2 reviews, there were 0 5-star reviews. The percent of unhelpful 5-star reviews by paid vine users was 0.00%',\n",
       " 'Out of 1,364 reviews, there were 120 5-star reviews. The percent of unhelpful 5-star reviews by unpaid users was 8.80%')"
      ]
     },
     "execution_count": 11,
     "metadata": {},
     "output_type": "execute_result"
    }
   ],
   "source": [
    "# Further Analysis\n",
    "# unhelpful reviewers\n",
    "unhelpful = vine_df[(vine_df.helpful_votes/vine_df.total_votes) < 0.5]\n",
    "u_paid = unhelpful[unhelpful.vine == 'Y']\n",
    "u_unpaid = unhelpful[unhelpful.vine == 'N']\n",
    "(calculate_reviews(u_paid, helpful='unhelpful'),\n",
    " calculate_reviews(u_unpaid, helpful='unhelpful'))\n"
   ]
  },
  {
   "cell_type": "code",
   "execution_count": 12,
   "metadata": {},
   "outputs": [
    {
     "data": {
      "text/plain": [
       "('Out of 170 reviews, there were 56 4-star reviews. The percent of helpful 5-star reviews by paid vine users was 32.94%',\n",
       " 'Out of 37,823 reviews, there were 4,897 4-star reviews. The percent of helpful 5-star reviews by unpaid users was 12.95%')"
      ]
     },
     "execution_count": 12,
     "metadata": {},
     "output_type": "execute_result"
    }
   ],
   "source": [
    "# Further Analysis\n",
    "# Helpful 4-star\n",
    "(calculate_reviews(paid, 4), calculate_reviews(unpaid, 4))"
   ]
  },
  {
   "cell_type": "code",
   "execution_count": 13,
   "metadata": {},
   "outputs": [
    {
     "data": {
      "text/plain": [
       "('Out of 170 reviews, there were 27 3-star reviews. The percent of helpful 5-star reviews by paid vine users was 15.88%',\n",
       " 'Out of 37,823 reviews, there were 2,710 3-star reviews. The percent of helpful 5-star reviews by unpaid users was 7.16%')"
      ]
     },
     "execution_count": 13,
     "metadata": {},
     "output_type": "execute_result"
    }
   ],
   "source": [
    "# Helpful 3-star\n",
    "(calculate_reviews(paid, 3), calculate_reviews(unpaid, 3))"
   ]
  },
  {
   "cell_type": "code",
   "execution_count": 14,
   "metadata": {},
   "outputs": [
    {
     "data": {
      "text/plain": [
       "('Out of 170 reviews, there were 16 2-star reviews. The percent of helpful 5-star reviews by paid vine users was 9.41%',\n",
       " 'Out of 37,823 reviews, there were 2,048 2-star reviews. The percent of helpful 5-star reviews by unpaid users was 5.41%')"
      ]
     },
     "execution_count": 14,
     "metadata": {},
     "output_type": "execute_result"
    }
   ],
   "source": [
    "# Helpful 2-star\n",
    "(calculate_reviews(paid, 2), calculate_reviews(unpaid, 2))\n"
   ]
  },
  {
   "cell_type": "code",
   "execution_count": 15,
   "metadata": {},
   "outputs": [
    {
     "data": {
      "text/plain": [
       "('Out of 170 reviews, there were 6 1-star reviews. The percent of helpful 5-star reviews by paid vine users was 3.53%',\n",
       " 'Out of 37,823 reviews, there were 7,563 1-star reviews. The percent of helpful 5-star reviews by unpaid users was 20.00%')"
      ]
     },
     "execution_count": 15,
     "metadata": {},
     "output_type": "execute_result"
    }
   ],
   "source": [
    "# Helpful 1-star\n",
    "(calculate_reviews(paid, 1), calculate_reviews(unpaid, 1))"
   ]
  },
  {
   "cell_type": "code",
   "execution_count": 16,
   "metadata": {},
   "outputs": [],
   "source": [
    "def distribute_reviews(df, helpful='helpful'):\n",
    "    total = df.review_id.count()\n",
    "    fives = df.star_rating[df.star_rating == 5].count()\n",
    "    fours = df.star_rating[df.star_rating == 4].count()\n",
    "    threes = df.star_rating[df.star_rating == 3].count()\n",
    "    twos = df.star_rating[df.star_rating == 2].count()\n",
    "    ones = df.star_rating[df.star_rating == 1].count()\n",
    "\n",
    "    return [fives/total, fours/total, threes/total, twos/total, ones/total]"
   ]
  },
  {
   "cell_type": "code",
   "execution_count": 18,
   "metadata": {},
   "outputs": [],
   "source": [
    "paid_dist = distribute_reviews(paid)\n",
    "unpaid_dist = distribute_reviews(unpaid)\n",
    "x_labels = [\"5\", \"4\", \"3\", \"2\", \"1\"]"
   ]
  },
  {
   "cell_type": "code",
   "execution_count": 24,
   "metadata": {},
   "outputs": [
    {
     "data": {
      "image/png": "[encoded data removed]",
      "text/plain": [
       "<Figure size 720x432 with 1 Axes>"
      ]
     },
     "metadata": {
      "needs_background": "light"
     },
     "output_type": "display_data"
    }
   ],
   "source": [
    "plt.subplots(figsize=(10,6))\n",
    "\n",
    "x_axis = np.arange(len(x_labels))\n",
    "plt.bar(x_axis + 0.8, paid_dist, 0.4, label = \"Paid\")\n",
    "plt.bar(x_axis + 1.2, unpaid_dist, 0.4, label = \"Unpaid\")\n",
    "\n",
    "plt.title(\"Star Distribution of Paid Vine Users\")\n",
    "plt.xlabel(\"Rating\")\n",
    "plt.xticks([1, 2, 3, 4, 5], x_labels)\n",
    "plt.ylabel(\"Percent of Total\")\n",
    "plt.legend()\n",
    "plt.show()"
   ]
  },
  {
   "cell_type": "code",
   "execution_count": 25,
   "metadata": {},
   "outputs": [
    {
     "data": {
      "text/plain": [
       "KstestResult(statistic=0.2, pvalue=1.0)"
      ]
     },
     "execution_count": 25,
     "metadata": {},
     "output_type": "execute_result"
    }
   ],
   "source": [
    "# Performing a Kolmogorov-Smirnov Test\n",
    "# The KS Test shows the equality of continuous or discontinuous 1-D probability distributions to compare (in this case) 2 samples, answering whether 2 samples could have come from the same data distribution. \n",
    "ks_2samp(paid_dist, unpaid_dist)\n"
   ]
  }
 ],
 "metadata": {
  "kernelspec": {
   "display_name": "Python 3.9.12 ('PythonData')",
   "language": "python",
   "name": "python3"
  },
  "language_info": {
   "codemirror_mode": {
    "name": "ipython",
    "version": 3
   },
   "file_extension": ".py",
   "mimetype": "text/x-python",
   "name": "python",
   "nbconvert_exporter": "python",
   "pygments_lexer": "ipython3",
   "version": "3.9.12"
  },
  "orig_nbformat": 4,
  "vscode": {
   "interpreter": {
    "hash": "545cd8b7514befe85d2d4576c8356de54fd5ea004f7372bc00090bcfdc6d1703"
   }
  }
 },
 "nbformat": 4,
 "nbformat_minor": 2
}
